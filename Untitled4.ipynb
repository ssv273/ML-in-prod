{
 "cells": [
  {
   "cell_type": "code",
   "execution_count": 1,
   "metadata": {},
   "outputs": [
    {
     "name": "stdout",
     "output_type": "stream",
     "text": [
      "Name: imblearn\n",
      "Version: 0.0\n",
      "Summary: Toolbox for imbalanced dataset in machine learning.\n",
      "Home-page: https://pypi.python.org/pypi/imbalanced-learn/\n",
      "Author: UNKNOWN\n",
      "Author-email: UNKNOWN\n",
      "License: UNKNOWN\n",
      "Location: c:\\users\\user\\appdata\\local\\programs\\python\\python37\\lib\\site-packages\n",
      "Requires: imbalanced-learn\n",
      "Required-by: \n"
     ]
    }
   ],
   "source": [
    "!pip show imblearn"
   ]
  },
  {
   "cell_type": "code",
   "execution_count": 3,
   "metadata": {},
   "outputs": [
    {
     "name": "stdout",
     "output_type": "stream",
     "text": [
      "Name: imbalanced-learn\n",
      "Version: 0.6.2\n",
      "Summary: Toolbox for imbalanced dataset in machine learning.\n",
      "Home-page: https://github.com/scikit-learn-contrib/imbalanced-learn\n",
      "Author: None\n",
      "Author-email: None\n",
      "License: MIT\n",
      "Location: c:\\users\\user\\appdata\\local\\programs\\python\\python37\\lib\\site-packages\n",
      "Requires: scikit-learn, joblib, scipy, numpy\n",
      "Required-by: imblearn\n"
     ]
    }
   ],
   "source": [
    "!pip show imbalanced-learn"
   ]
  },
  {
   "cell_type": "code",
   "execution_count": 2,
   "metadata": {},
   "outputs": [
    {
     "name": "stdout",
     "output_type": "stream",
     "text": [
      "Name: Keras\n",
      "Version: 2.3.1\n",
      "Summary: Deep Learning for humans\n",
      "Home-page: https://github.com/keras-team/keras\n",
      "Author: Francois Chollet\n",
      "Author-email: francois.chollet@gmail.com\n",
      "License: MIT\n",
      "Location: c:\\users\\user\\appdata\\local\\programs\\python\\python37\\lib\\site-packages\n",
      "Requires: six, scipy, h5py, keras-preprocessing, keras-applications, numpy, pyyaml\n",
      "Required-by: Keras-Preprocessing, Keras-Applications\n"
     ]
    }
   ],
   "source": [
    "!pip show keras"
   ]
  }
 ],
 "metadata": {
  "kernelspec": {
   "display_name": "Python 3",
   "language": "python",
   "name": "python3"
  },
  "language_info": {
   "codemirror_mode": {
    "name": "ipython",
    "version": 3
   },
   "file_extension": ".py",
   "mimetype": "text/x-python",
   "name": "python",
   "nbconvert_exporter": "python",
   "pygments_lexer": "ipython3",
   "version": "3.7.0"
  }
 },
 "nbformat": 4,
 "nbformat_minor": 4
}
